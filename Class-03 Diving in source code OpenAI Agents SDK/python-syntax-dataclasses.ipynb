{
 "cells": [
  {
   "cell_type": "code",
   "execution_count": 3,
   "id": "a4d01628",
   "metadata": {},
   "outputs": [],
   "source": [
    "from dataclasses import dataclass  "
   ]
  },
  {
   "cell_type": "code",
   "execution_count": 11,
   "id": "7ce3fc7f",
   "metadata": {},
   "outputs": [],
   "source": [
    "from typing import TypeVar, ClassVar\n",
    "\n",
    "@dataclass\n",
    "class American:\n",
    "  national_language: ClassVar[str] = \"English\"\n",
    "  national_food: ClassVar[str] = \"Humberger\"\n",
    "  \n",
    "  name: str\n",
    "  age: int\n",
    "  weight: float\n",
    "  liked_food: str\n",
    "  normal_body_temperature : ClassVar[float] = 98.6\n",
    "\n",
    "  def speaks(self):\n",
    "    return f\"{self.name} is eating.... {American.national_language}\"\n",
    "\n",
    "  def eats(self):\n",
    "    return f\"{self.name} is eating....\"\n",
    "\n",
    "  def country_language(self):\n",
    "    return American.national_language\n",
    "\n"
   ]
  },
  {
   "cell_type": "code",
   "execution_count": null,
   "id": "ae84d79b",
   "metadata": {},
   "outputs": [
    {
     "name": "stdout",
     "output_type": "stream",
     "text": [
      "John is eating.... English\n",
      "John is eating....\n"
     ]
    }
   ],
   "source": [
    "john = American(name=\"John\", age=25, weight=65, liked_food=\"Pasta\")\n",
    "print(john.speaks())\n",
    "print(john.eats())  "
   ]
  },
  {
   "cell_type": "code",
   "execution_count": 13,
   "id": "fb04bd6f",
   "metadata": {},
   "outputs": [
    {
     "name": "stdout",
     "output_type": "stream",
     "text": [
      "John\n",
      "25\n",
      "65\n",
      "American(name='John', age=25, weight=65, liked_food='Pasta')\n",
      "English\n"
     ]
    }
   ],
   "source": [
    "print(john.name)\n",
    "print(john.age)\n",
    "print(john.weight)\n",
    "print(john)\n",
    "print(American.national_language)  "
   ]
  },
  {
   "cell_type": "code",
   "execution_count": 27,
   "id": "10504ed0",
   "metadata": {},
   "outputs": [],
   "source": [
    "@dataclass\n",
    "class Human:\n",
    "    name: str\n",
    "    age: int\n",
    "\n",
    "    def greet(self):\n",
    "        return f\"Hi, I am {self.name}\"\n",
    "    \n",
    "    \n",
    "    def works(self):\n",
    "        return f\"I am Working\"\n",
    "    \n",
    "\n",
    "    def __call__(self):\n",
    "        return f\"Hello\""
   ]
  },
  {
   "cell_type": "code",
   "execution_count": 28,
   "id": "18f0313e",
   "metadata": {},
   "outputs": [
    {
     "name": "stdout",
     "output_type": "stream",
     "text": [
      "Jordan\n",
      "22\n",
      "Hi, I am Jordan\n",
      "I am Working\n"
     ]
    }
   ],
   "source": [
    "obj1 = Human(name=\"Jordan\", age=22)\n",
    "print(obj1.name)\n",
    "print(obj1.age)\n",
    "print(obj1.greet())\n",
    "print(obj1.works())"
   ]
  },
  {
   "cell_type": "code",
   "execution_count": 29,
   "id": "5902cfef",
   "metadata": {},
   "outputs": [
    {
     "data": {
      "text/plain": [
       "'Hello'"
      ]
     },
     "execution_count": 29,
     "metadata": {},
     "output_type": "execute_result"
    }
   ],
   "source": [
    "obj1()"
   ]
  },
  {
   "cell_type": "code",
   "execution_count": 32,
   "id": "0d194082",
   "metadata": {},
   "outputs": [
    {
     "data": {
      "text/plain": [
       "Human(name='Jordan', age=22)"
      ]
     },
     "execution_count": 32,
     "metadata": {},
     "output_type": "execute_result"
    }
   ],
   "source": [
    "obj1"
   ]
  },
  {
   "cell_type": "code",
   "execution_count": 31,
   "id": "1de4f981",
   "metadata": {},
   "outputs": [
    {
     "data": {
      "text/plain": [
       "{'name': 'Jordan', 'age': 22}"
      ]
     },
     "execution_count": 31,
     "metadata": {},
     "output_type": "execute_result"
    }
   ],
   "source": [
    "obj1.__dict__"
   ]
  },
  {
   "cell_type": "code",
   "execution_count": 18,
   "id": "88c03fee",
   "metadata": {},
   "outputs": [
    {
     "data": {
      "text/plain": [
       "['__annotations__',\n",
       " '__builtins__',\n",
       " '__call__',\n",
       " '__class__',\n",
       " '__closure__',\n",
       " '__code__',\n",
       " '__defaults__',\n",
       " '__delattr__',\n",
       " '__dict__',\n",
       " '__dir__',\n",
       " '__doc__',\n",
       " '__eq__',\n",
       " '__format__',\n",
       " '__ge__',\n",
       " '__get__',\n",
       " '__getattribute__',\n",
       " '__getstate__',\n",
       " '__globals__',\n",
       " '__gt__',\n",
       " '__hash__',\n",
       " '__init__',\n",
       " '__init_subclass__',\n",
       " '__kwdefaults__',\n",
       " '__le__',\n",
       " '__lt__',\n",
       " '__module__',\n",
       " '__name__',\n",
       " '__ne__',\n",
       " '__new__',\n",
       " '__qualname__',\n",
       " '__reduce__',\n",
       " '__reduce_ex__',\n",
       " '__repr__',\n",
       " '__setattr__',\n",
       " '__sizeof__',\n",
       " '__str__',\n",
       " '__subclasshook__',\n",
       " '__type_params__']"
      ]
     },
     "execution_count": 18,
     "metadata": {},
     "output_type": "execute_result"
    }
   ],
   "source": [
    "def greet():\n",
    "    return \"Hi\"\n",
    "\n",
    "dir(greet)"
   ]
  }
 ],
 "metadata": {
  "kernelspec": {
   "display_name": "my-app",
   "language": "python",
   "name": "python3"
  },
  "language_info": {
   "codemirror_mode": {
    "name": "ipython",
    "version": 3
   },
   "file_extension": ".py",
   "mimetype": "text/x-python",
   "name": "python",
   "nbconvert_exporter": "python",
   "pygments_lexer": "ipython3",
   "version": "3.12.0"
  }
 },
 "nbformat": 4,
 "nbformat_minor": 5
}
