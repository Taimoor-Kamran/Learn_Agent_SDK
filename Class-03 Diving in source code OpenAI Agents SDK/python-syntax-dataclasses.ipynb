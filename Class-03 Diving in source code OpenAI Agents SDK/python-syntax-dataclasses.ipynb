{
 "cells": [
  {
   "cell_type": "code",
   "execution_count": 3,
   "id": "a4d01628",
   "metadata": {},
   "outputs": [],
   "source": [
    "from dataclasses import dataclass  "
   ]
  },
  {
   "cell_type": "code",
   "execution_count": null,
   "id": "7ce3fc7f",
   "metadata": {},
   "outputs": [],
   "source": [
    "from typing import TypeVar, ClassVar\n",
    "\n",
    "@dataclass\n",
    "class American:\n",
    "  national_language: ClassVar[str] = \"English\"\n",
    "  national_food: ClassVar[str] = \"Humberger\"\n",
    "  \n",
    "  name: str\n",
    "  age: int\n",
    "  weight: float\n",
    "  liked_food: str\n",
    "  normal_body_temperature : ClassVar[float] = 98.6\n",
    "\n",
    "  def speaks(self):\n",
    "    return f\"{self.name} is eating.... {American.national_language}\"\n",
    "\n",
    "  def eats(self):\n",
    "    return f\"{self.name} is eating....\"\n",
    "\n",
    "  def country_language(self):\n",
    "    return American.national_language\n",
    "\n"
   ]
  },
  {
   "cell_type": "code",
   "execution_count": 9,
   "id": "ae84d79b",
   "metadata": {},
   "outputs": [
    {
     "name": "stdout",
     "output_type": "stream",
     "text": [
      "John is eating.... English\n",
      "John is eating....\n"
     ]
    }
   ],
   "source": [
    "john = American(name=\"John\", age=25, weight=65, liked_food=\"Pasta\")\n",
    "print(john.speaks())\n",
    "print(john.eats())"
   ]
  },
  {
   "cell_type": "code",
   "execution_count": 10,
   "id": "fb04bd6f",
   "metadata": {},
   "outputs": [
    {
     "name": "stdout",
     "output_type": "stream",
     "text": [
      "John\n",
      "25\n",
      "65\n",
      "American(name='John', age=25, weight=65, liked_food='Pasta')\n",
      "English\n"
     ]
    }
   ],
   "source": [
    "print(john.name)\n",
    "print(john.age)\n",
    "print(john.weight)\n",
    "print(john)\n",
    "print(American.national_language)  "
   ]
  }
 ],
 "metadata": {
  "kernelspec": {
   "display_name": "my-app",
   "language": "python",
   "name": "python3"
  },
  "language_info": {
   "codemirror_mode": {
    "name": "ipython",
    "version": 3
   },
   "file_extension": ".py",
   "mimetype": "text/x-python",
   "name": "python",
   "nbconvert_exporter": "python",
   "pygments_lexer": "ipython3",
   "version": "3.12.0"
  }
 },
 "nbformat": 4,
 "nbformat_minor": 5
}
