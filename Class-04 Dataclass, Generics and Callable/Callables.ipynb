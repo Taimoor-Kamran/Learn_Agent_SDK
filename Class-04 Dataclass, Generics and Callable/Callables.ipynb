{
 "cells": [
  {
   "cell_type": "code",
   "execution_count": 3,
   "id": "e8d23c4c",
   "metadata": {},
   "outputs": [
    {
     "name": "stdout",
     "output_type": "stream",
     "text": [
      "typing.Callable[[int, int], str]\n"
     ]
    }
   ],
   "source": [
    "from typing import Callable\n",
    "\n",
    "# A Callable that takes two integers and return a string\n",
    "MyFuncType = Callable[[int, int], str]\n",
    "\n",
    "print(MyFuncType)"
   ]
  },
  {
   "cell_type": "code",
   "execution_count": 13,
   "id": "ad764378",
   "metadata": {},
   "outputs": [],
   "source": [
    "# Usage \n",
    "from dataclasses import dataclass\n",
    "from typing import Callable\n",
    "\n",
    "@dataclass\n",
    "class Calculator:\n",
    "    operation: Callable[[int, int], str]\n",
    "\n",
    "    def __call__(self, a: int, b: int) -> str:\n",
    "        return self.operation(a, b)\n"
   ]
  },
  {
   "cell_type": "code",
   "execution_count": 14,
   "id": "d6aae17b",
   "metadata": {},
   "outputs": [],
   "source": [
    "\n",
    "\n",
    "def add_and_stringify(x: int, y: int) -> str:\n",
    "    return str(x + y)\n",
    "\n",
    "calc = Calculator(operation=add_and_stringify)"
   ]
  },
  {
   "cell_type": "code",
   "execution_count": 16,
   "id": "d330c8bc",
   "metadata": {},
   "outputs": [
    {
     "name": "stdout",
     "output_type": "stream",
     "text": [
      "17\n"
     ]
    }
   ],
   "source": [
    "print(calc(5, 12)) # Outputs: '12'"
   ]
  },
  {
   "cell_type": "code",
   "execution_count": null,
   "id": "d638f0e8",
   "metadata": {},
   "outputs": [],
   "source": []
  }
 ],
 "metadata": {
  "kernelspec": {
   "display_name": "my-app",
   "language": "python",
   "name": "python3"
  },
  "language_info": {
   "codemirror_mode": {
    "name": "ipython",
    "version": 3
   },
   "file_extension": ".py",
   "mimetype": "text/x-python",
   "name": "python",
   "nbconvert_exporter": "python",
   "pygments_lexer": "ipython3",
   "version": "3.12.0"
  }
 },
 "nbformat": 4,
 "nbformat_minor": 5
}
