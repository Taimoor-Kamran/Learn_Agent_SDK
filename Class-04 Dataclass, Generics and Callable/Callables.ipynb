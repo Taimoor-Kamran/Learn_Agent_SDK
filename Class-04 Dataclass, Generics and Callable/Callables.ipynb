{
 "cells": [
  {
   "cell_type": "code",
   "execution_count": 6,
   "id": "e8d23c4c",
   "metadata": {},
   "outputs": [
    {
     "name": "stdout",
     "output_type": "stream",
     "text": [
      "typing.Callable[[int, int], str]\n"
     ]
    }
   ],
   "source": [
    "from typing import Callable\n",
    "\n",
    "# A Callable that takes two integers and return a string\n",
    "MyFuncType = Callable[[int, int], str]\n",
    "\n",
    "print(MyFuncType)"
   ]
  },
  {
   "cell_type": "code",
   "execution_count": 7,
   "id": "ad764378",
   "metadata": {},
   "outputs": [],
   "source": [
    "from dataclasses import dataclass\n",
    "from typing import Callable\n",
    "\n",
    "@dataclass\n",
    "class Calculator:\n",
    "    operation : Callable[[int, int], str]\n",
    "\n",
    "    def calculate(self, a : int, b : int):\n",
    "        return self.operation(a ,b)"
   ]
  },
  {
   "cell_type": "code",
   "execution_count": 8,
   "id": "d6aae17b",
   "metadata": {},
   "outputs": [],
   "source": [
    "def add_and_stringlfy(x : int, y: int) -> str:\n",
    "    return str(x + y)\n",
    "\n",
    "calc = Calculator(operation=add_and_stringlfy)"
   ]
  },
  {
   "cell_type": "code",
   "execution_count": 9,
   "id": "d330c8bc",
   "metadata": {},
   "outputs": [
    {
     "name": "stdout",
     "output_type": "stream",
     "text": [
      "7\n"
     ]
    }
   ],
   "source": [
    "print(calc.calculate(5, 2))"
   ]
  },
  {
   "cell_type": "code",
   "execution_count": 10,
   "id": "b7df1837",
   "metadata": {},
   "outputs": [],
   "source": [
    "@dataclass\n",
    "class Calculator:\n",
    "    operation: Callable[[int, int], str]\n",
    "\n",
    "    def __call__(self, a:int, b:int) -> str:\n",
    "        return self.operation(a ,b)\n",
    "    "
   ]
  },
  {
   "cell_type": "code",
   "execution_count": 11,
   "id": "e63abd3e",
   "metadata": {},
   "outputs": [
    {
     "name": "stdout",
     "output_type": "stream",
     "text": [
      "32\n"
     ]
    }
   ],
   "source": [
    "def multiply(x : int, y: int) -> str: \n",
    "    return x * y\n",
    "\n",
    "mul1 = Calculator(operation=lambda x,y: x**y)\n",
    "print(mul1(2, 5))\n"
   ]
  },
  {
   "cell_type": "code",
   "execution_count": 12,
   "id": "2e75a819",
   "metadata": {},
   "outputs": [
    {
     "name": "stdout",
     "output_type": "stream",
     "text": [
      "10\n"
     ]
    }
   ],
   "source": [
    "\n",
    "mul = Calculator(operation=multiply)\n",
    "print(mul(2, 5))\n"
   ]
  },
  {
   "cell_type": "code",
   "execution_count": 13,
   "id": "cb707444",
   "metadata": {},
   "outputs": [
    {
     "name": "stdout",
     "output_type": "stream",
     "text": [
      "3.5\n"
     ]
    }
   ],
   "source": [
    "@dataclass\n",
    "class Calculator:\n",
    "    operation: Callable[[int, int], str]\n",
    "\n",
    "    def __call__(self, a:int, b:int) -> str:\n",
    "        return self.operation(a ,b)\n",
    "    \n",
    "cal2 = Calculator(operation=lambda x, y : x / y)\n",
    "print(cal2(7, 2))"
   ]
  },
  {
   "cell_type": "code",
   "execution_count": 14,
   "id": "3bc81f72",
   "metadata": {},
   "outputs": [
    {
     "name": "stdout",
     "output_type": "stream",
     "text": [
      "Can't divide by zero\n"
     ]
    }
   ],
   "source": [
    "\n",
    "result1 = lambda x, y : x / y if y != 0 else \"Can't divide by zero\"\n",
    "cal3 = Calculator(operation=result1)\n",
    "print(cal3(7, 0))"
   ]
  },
  {
   "cell_type": "code",
   "execution_count": 15,
   "id": "4143ca12",
   "metadata": {},
   "outputs": [
    {
     "name": "stdout",
     "output_type": "stream",
     "text": [
      "5\n"
     ]
    }
   ],
   "source": [
    "@dataclass\n",
    "class Calculator:\n",
    "    operation: Callable[[int, int], int]\n",
    "\n",
    "    def __call__(self, a: int, b: int):\n",
    "        return self.operation(a, b)\n",
    "\n",
    "# Lambda for subtraction (x - y)\n",
    "cal4 = Calculator(operation=lambda x, y : x-y)\n",
    "print(cal4(10 ,5))"
   ]
  }
 ],
 "metadata": {
  "kernelspec": {
   "display_name": "my-app",
   "language": "python",
   "name": "python3"
  },
  "language_info": {
   "codemirror_mode": {
    "name": "ipython",
    "version": 3
   },
   "file_extension": ".py",
   "mimetype": "text/x-python",
   "name": "python",
   "nbconvert_exporter": "python",
   "pygments_lexer": "ipython3",
   "version": "3.12.0"
  }
 },
 "nbformat": 4,
 "nbformat_minor": 5
}
