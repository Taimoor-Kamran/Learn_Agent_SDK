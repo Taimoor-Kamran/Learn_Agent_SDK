{
 "cells": [
  {
   "cell_type": "code",
   "execution_count": null,
   "id": "e8d23c4c",
   "metadata": {},
   "outputs": [],
   "source": [
    "from typing import Callable\n",
    "\n",
    "# A Callable that takes two integers and return a string\n",
    "MyFuncType = Callable[[int, int], str]\n",
    "\n",
    "print(MyFuncType)"
   ]
  }
 ],
 "metadata": {
  "kernelspec": {
   "display_name": "my-app",
   "language": "python",
   "name": "python3"
  },
  "language_info": {
   "name": "python",
   "version": "3.12.0"
  }
 },
 "nbformat": 4,
 "nbformat_minor": 5
}
