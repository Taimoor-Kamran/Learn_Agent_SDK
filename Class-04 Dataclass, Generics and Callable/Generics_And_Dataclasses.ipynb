{
 "cells": [
  {
   "cell_type": "markdown",
   "id": "1d8e7682",
   "metadata": {},
   "source": [
    "# Introduction to Generics\n"
   ]
  },
  {
   "cell_type": "code",
   "execution_count": null,
   "id": "74bc0672",
   "metadata": {},
   "outputs": [],
   "source": [
    "# Example without Generics\n",
    "\n",
    "from typing import Any\n",
    "\n",
    "def first_element(items : list[Any]) -> Any:\n",
    "    \n",
    "    return \"Hello\"\n"
   ]
  },
  {
   "cell_type": "code",
   "execution_count": 1,
   "id": "01dd950c",
   "metadata": {},
   "outputs": [
    {
     "ename": "NameError",
     "evalue": "name 'first_element' is not defined",
     "output_type": "error",
     "traceback": [
      "\u001b[1;31m---------------------------------------------------------------------------\u001b[0m",
      "\u001b[1;31mNameError\u001b[0m                                 Traceback (most recent call last)",
      "Cell \u001b[1;32mIn[1], line 4\u001b[0m\n\u001b[0;32m      1\u001b[0m nums \u001b[38;5;241m=\u001b[39m [\u001b[38;5;241m1\u001b[39m,\u001b[38;5;241m2\u001b[39m,\u001b[38;5;241m3\u001b[39m]\n\u001b[0;32m      2\u001b[0m strings \u001b[38;5;241m=\u001b[39m [\u001b[38;5;124m'\u001b[39m\u001b[38;5;124ma\u001b[39m\u001b[38;5;124m'\u001b[39m,\u001b[38;5;124m'\u001b[39m\u001b[38;5;124mb\u001b[39m\u001b[38;5;124m'\u001b[39m,\u001b[38;5;124m'\u001b[39m\u001b[38;5;124mc\u001b[39m\u001b[38;5;124m'\u001b[39m]\n\u001b[1;32m----> 4\u001b[0m \u001b[38;5;28mprint\u001b[39m(\u001b[43mfirst_element\u001b[49m(nums)) \u001b[38;5;66;03m# 1\u001b[39;00m\n\u001b[0;32m      5\u001b[0m \u001b[38;5;28mprint\u001b[39m(first_element(strings)) \u001b[38;5;66;03m# a\u001b[39;00m\n",
      "\u001b[1;31mNameError\u001b[0m: name 'first_element' is not defined"
     ]
    }
   ],
   "source": [
    "\n",
    "nums = [1,2,3]\n",
    "strings = ['a','b','c']\n",
    "\n",
    "print(first_element(nums)) # 1\n",
    "print(first_element(strings)) # a"
   ]
  },
  {
   "cell_type": "code",
   "execution_count": null,
   "id": "22e05582",
   "metadata": {},
   "outputs": [],
   "source": []
  }
 ],
 "metadata": {
  "kernelspec": {
   "display_name": "my-app",
   "language": "python",
   "name": "python3"
  },
  "language_info": {
   "codemirror_mode": {
    "name": "ipython",
    "version": 3
   },
   "file_extension": ".py",
   "mimetype": "text/x-python",
   "name": "python",
   "nbconvert_exporter": "python",
   "pygments_lexer": "ipython3",
   "version": "3.12.0"
  }
 },
 "nbformat": 4,
 "nbformat_minor": 5
}
