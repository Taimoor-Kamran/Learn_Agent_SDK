{
 "cells": [
  {
   "cell_type": "markdown",
   "id": "1d8e7682",
   "metadata": {},
   "source": [
    "# Introduction to Generics\n"
   ]
  },
  {
   "cell_type": "code",
   "execution_count": null,
   "id": "74bc0672",
   "metadata": {},
   "outputs": [],
   "source": [
    "# Example without Generics\n",
    "from typing import TypeVar\n",
    "from typing import Any\n",
    "\n",
    "T = TypeVar(\"T\")\n",
    "\n",
    "def first_element(items : list[T]) -> T:\n",
    "    \n",
    "    return items[0]\n",
    "\n",
    "# Infer\n",
    "\n",
    "# -> 1. I will pass a list where all items will have same type.\n",
    "# -> 2. T is fill in the blank. T will be whatever type we define.\n",
    "# -> 3. Whatever type of T is will be returned. "
   ]
  },
  {
   "cell_type": "code",
   "execution_count": 6,
   "id": "01dd950c",
   "metadata": {},
   "outputs": [
    {
     "name": "stdout",
     "output_type": "stream",
     "text": [
      "Hello\n",
      "Hello\n"
     ]
    }
   ],
   "source": [
    "\n",
    "nums = [1,2,3]\n",
    "strings = ['a','b','c']\n",
    "\n",
    "print(first_element(nums)) # 1\n",
    "print(first_element(strings)) # a"
   ]
  },
  {
   "cell_type": "code",
   "execution_count": 7,
   "id": "22e05582",
   "metadata": {},
   "outputs": [],
   "source": [
    "from typing import TypeVar\n",
    "\n",
    "T = TypeVar(\"T\") # represents a generic type"
   ]
  },
  {
   "cell_type": "markdown",
   "id": "d4ccd833",
   "metadata": {},
   "source": [
    "- T is a placeholder that can be **replaced with any type** when the function is called.\n",
    "- The **actual type is inferred at runtime**."
   ]
  },
  {
   "cell_type": "code",
   "execution_count": 8,
   "id": "84af7686",
   "metadata": {},
   "outputs": [
    {
     "name": "stdout",
     "output_type": "stream",
     "text": [
      "1\n",
      "a\n"
     ]
    }
   ],
   "source": [
    "from typing import TypeVar\n",
    "from dataclasses import dataclass\n",
    "\n",
    "# Type Variable for generic typing\n",
    "T = TypeVar('T')\n",
    "\n",
    "def generic_first_element(items: list[T]) -> T:\n",
    "    return items[0]\n",
    "\n",
    "num_result = generic_first_element(nums)\n",
    "string_result = generic_first_element(strings)\n",
    "\n",
    "print(num_result)\n",
    "print(string_result)\n",
    "\n",
    "\n",
    "# @dataclass\n",
    "# class Person:\n",
    "#     educationl_details: list[T]"
   ]
  },
  {
   "cell_type": "code",
   "execution_count": 10,
   "id": "2a0afd08",
   "metadata": {},
   "outputs": [],
   "source": [
    "from typing import TypeVar\n",
    "\n",
    "K = TypeVar(\"K\")\n",
    "V = TypeVar(\"V\")\n",
    "\n",
    "def get_item(container: dict[K, V], key) -> V:\n",
    "    return container[key]"
   ]
  },
  {
   "cell_type": "code",
   "execution_count": 15,
   "id": "328257a4",
   "metadata": {},
   "outputs": [
    {
     "name": "stdout",
     "output_type": "stream",
     "text": [
      "1\n"
     ]
    }
   ],
   "source": [
    "d = {'a': 1, 'b': 2}\n",
    "\n",
    "value = get_item(d, 'a') # return int\n",
    "print(value)\n"
   ]
  },
  {
   "cell_type": "code",
   "execution_count": null,
   "id": "108eb7e8",
   "metadata": {},
   "outputs": [],
   "source": [
    "from typing import Generic, TypeVar, ClassVar\n",
    "from dataclasses import dataclass, field\n",
    "\n",
    "@dataclass\n",
    "class Stack(Generic[T]):\n",
    "    items: list[T] = field(default_factory=list)\n",
    "    limit: ClassVar[int] = 10\n",
    "\n",
    "    def push(self, item: T) -> None:\n",
    "        self."
   ]
  },
  {
   "cell_type": "code",
   "execution_count": null,
   "id": "19498755",
   "metadata": {},
   "outputs": [],
   "source": []
  }
 ],
 "metadata": {
  "kernelspec": {
   "display_name": "my-app",
   "language": "python",
   "name": "python3"
  },
  "language_info": {
   "codemirror_mode": {
    "name": "ipython",
    "version": 3
   },
   "file_extension": ".py",
   "mimetype": "text/x-python",
   "name": "python",
   "nbconvert_exporter": "python",
   "pygments_lexer": "ipython3",
   "version": "3.12.0"
  }
 },
 "nbformat": 4,
 "nbformat_minor": 5
}
