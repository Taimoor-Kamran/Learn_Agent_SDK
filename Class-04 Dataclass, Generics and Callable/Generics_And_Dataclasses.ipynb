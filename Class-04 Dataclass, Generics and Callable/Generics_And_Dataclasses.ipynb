{
 "cells": [
  {
   "cell_type": "markdown",
   "id": "1d8e7682",
   "metadata": {},
   "source": [
    "# Introduction to Generics\n"
   ]
  },
  {
   "cell_type": "code",
   "execution_count": 6,
   "id": "74bc0672",
   "metadata": {},
   "outputs": [],
   "source": [
    "# Example without Generics\n",
    "\n",
    "from typing import Any\n",
    "\n",
    "def first_element(items : list[Any]) -> Any:\n",
    "    \n",
    "    return \"Hello\"\n"
   ]
  },
  {
   "cell_type": "code",
   "execution_count": 7,
   "id": "01dd950c",
   "metadata": {},
   "outputs": [
    {
     "name": "stdout",
     "output_type": "stream",
     "text": [
      "Hello\n",
      "Hello\n"
     ]
    }
   ],
   "source": [
    "\n",
    "nums = [1,2,3]\n",
    "strings = ['a','b','c']\n",
    "\n",
    "print(first_element(nums)) # 1\n",
    "print(first_element(strings)) # a"
   ]
  },
  {
   "cell_type": "code",
   "execution_count": 10,
   "id": "22e05582",
   "metadata": {},
   "outputs": [],
   "source": [
    "from typing import TypeVar\n",
    "\n",
    "T = TypeVar(\"T\") # represents a generic type"
   ]
  },
  {
   "cell_type": "markdown",
   "id": "d4ccd833",
   "metadata": {},
   "source": [
    "- T is a placeholder that can be **replaced with any type** when the function is called.\n",
    "- The **actual type is inferred at runtime**."
   ]
  },
  {
   "cell_type": "code",
   "execution_count": null,
   "id": "84af7686",
   "metadata": {},
   "outputs": [],
   "source": [
    "from typing import TypeVar\n",
    "\n",
    "# Type Variable for generic typing\n",
    "T = TypeVar('T')"
   ]
  },
  {
   "cell_type": "code",
   "execution_count": null,
   "id": "2a0afd08",
   "metadata": {},
   "outputs": [],
   "source": []
  }
 ],
 "metadata": {
  "kernelspec": {
   "display_name": "my-app",
   "language": "python",
   "name": "python3"
  },
  "language_info": {
   "codemirror_mode": {
    "name": "ipython",
    "version": 3
   },
   "file_extension": ".py",
   "mimetype": "text/x-python",
   "name": "python",
   "nbconvert_exporter": "python",
   "pygments_lexer": "ipython3",
   "version": "3.12.0"
  }
 },
 "nbformat": 4,
 "nbformat_minor": 5
}
