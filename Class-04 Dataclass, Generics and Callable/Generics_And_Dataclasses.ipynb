{
 "cells": [
  {
   "cell_type": "markdown",
   "id": "1d8e7682",
   "metadata": {},
   "source": [
    "# Introduction to Generics\n"
   ]
  },
  {
   "cell_type": "code",
   "execution_count": null,
   "id": "74bc0672",
   "metadata": {},
   "outputs": [],
   "source": [
    "# Example without Generics"
   ]
  }
 ],
 "metadata": {
  "language_info": {
   "name": "python"
  }
 },
 "nbformat": 4,
 "nbformat_minor": 5
}
