{
 "cells": [
  {
   "cell_type": "code",
   "execution_count": null,
   "id": "8fed21b1",
   "metadata": {},
   "outputs": [],
   "source": [
    "\"\"\"\n",
    "01_basic_dataclasses.py - Basic usage of dataclasses\n",
    "\n",
    "This file demonstrates the proper use of dataclasses for simple data structures.\n",
    "\"\"\"\n",
    "\n",
    "from dataclasses import dataclass, field "
   ]
  }
 ],
 "metadata": {
  "kernelspec": {
   "display_name": "my-app",
   "language": "python",
   "name": "python3"
  },
  "language_info": {
   "name": "python",
   "version": "3.12.0"
  }
 },
 "nbformat": 4,
 "nbformat_minor": 5
}
