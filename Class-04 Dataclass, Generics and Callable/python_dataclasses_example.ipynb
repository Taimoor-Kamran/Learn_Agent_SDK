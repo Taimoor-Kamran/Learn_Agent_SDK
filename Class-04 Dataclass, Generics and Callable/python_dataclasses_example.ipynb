{
 "cells": [
  {
   "cell_type": "code",
   "execution_count": null,
   "id": "8fed21b1",
   "metadata": {},
   "outputs": [],
   "source": [
    "\"\"\"\n",
    "01_basic_dataclasses.py - Basic usage of dataclasses\n",
    "\n",
    "This file demonstrates the proper use of dataclasses for simple data structures.\n",
    "\"\"\"\n",
    "\n",
    "from dataclasses import dataclass, field \n",
    "from typing import List, Optional\n",
    "\n",
    "@dataclass\n",
    "class Person:\n",
    "    name: str\n",
    "    age: int\n",
    "    email: Optional[str] = None"
   ]
  }
 ],
 "metadata": {
  "kernelspec": {
   "display_name": "my-app",
   "language": "python",
   "name": "python3"
  },
  "language_info": {
   "name": "python",
   "version": "3.12.0"
  }
 },
 "nbformat": 4,
 "nbformat_minor": 5
}
