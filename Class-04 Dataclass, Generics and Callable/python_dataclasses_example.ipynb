{
 "cells": [
  {
   "cell_type": "code",
   "execution_count": null,
   "id": "8fed21b1",
   "metadata": {},
   "outputs": [
    {
     "ename": "SyntaxError",
     "evalue": "incomplete input (744733381.py, line 43)",
     "output_type": "error",
     "traceback": [
      "\u001b[1;36m  Cell \u001b[1;32mIn[4], line 43\u001b[1;36m\u001b[0m\n\u001b[1;33m    \u001b[0m\n\u001b[1;37m    ^\u001b[0m\n\u001b[1;31mSyntaxError\u001b[0m\u001b[1;31m:\u001b[0m incomplete input\n"
     ]
    }
   ],
   "source": [
    "\"\"\"\n",
    "01_basic_dataclasses.py - Basic usage of dataclasses\n",
    "\n",
    "This file demonstrates the proper use of dataclasses for simple data structures.\n",
    "\"\"\"\n",
    "\n",
    "from dataclasses import dataclass, field \n",
    "from typing import List, Optional\n",
    "\n",
    "@dataclass\n",
    "class Person:\n",
    "    name: str\n",
    "    age: int\n",
    "    email: str | None = None\n",
    "    # Using field() with default_factory for mutable default values\n",
    "    tags: List[str] = field(default_factory=list)\n",
    "\n",
    "    def is_adult(self) -> bool:\n",
    "        \"\"\"Example method that uses the dataclasses attributes.\"\"\"\n",
    "        return self.age >= 18\n",
    "\n",
    "# Usage example\n",
    "def demo_good_usage():\n",
    "    # Creating instatnces\n",
    "    person1 = Person(name=\"Alice\", age=30, email=\"alice@example.com\")\n",
    "    person2 = Person(name=\"Bob\", age=25)\n",
    "    person3 = Person(name=\"Charlie\", age=17, tags=[\"student\", \"part-time\"])\n",
    "\n",
    "    # Adding to a mutable field\n",
    "    person1.tage.append(\"developer\")\n",
    "\n",
    "    # Using the built-in string representation\n",
    "    print(f\"Person 1: {person1}\")\n",
    "    print(f\"Person 2: {person2}\")\n",
    "    print(f\"Person 3: {person3}\")\n",
    "\n",
    "    # Using the Instance method\n",
    "    print(f\"Is {person1.name} an adult? {person1.is_adult()}\")\n",
    "    print(f\"Is {person3.name} an adult? {person3.is_adult()}\")\n",
    "\n",
    "# BAD EXAMPLE: Class without dataclass\n",
    "class PersonBad:\n",
    "    def __init__(self):\n",
    "        "
   ]
  },
  {
   "cell_type": "code",
   "execution_count": 3,
   "id": "6e43f6c5",
   "metadata": {},
   "outputs": [
    {
     "name": "stdout",
     "output_type": "stream",
     "text": [
      "=== GOOD DATACLASS EXAMPLES ===\n"
     ]
    }
   ],
   "source": [
    "if __name__ == \"__main__\":\n",
    "    print(\"=== GOOD DATACLASS EXAMPLES ===\")\n",
    "    demo_good_usage()"
   ]
  }
 ],
 "metadata": {
  "kernelspec": {
   "display_name": "my-app",
   "language": "python",
   "name": "python3"
  },
  "language_info": {
   "codemirror_mode": {
    "name": "ipython",
    "version": 3
   },
   "file_extension": ".py",
   "mimetype": "text/x-python",
   "name": "python",
   "nbconvert_exporter": "python",
   "pygments_lexer": "ipython3",
   "version": "3.12.0"
  }
 },
 "nbformat": 4,
 "nbformat_minor": 5
}
