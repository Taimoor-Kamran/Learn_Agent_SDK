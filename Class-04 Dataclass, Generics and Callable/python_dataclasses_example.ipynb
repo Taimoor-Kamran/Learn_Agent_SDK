{
 "cells": [
  {
   "cell_type": "code",
   "execution_count": null,
   "id": "8fed21b1",
   "metadata": {},
   "outputs": [
    {
     "name": "stdout",
     "output_type": "stream",
     "text": [
      "=== GOOD DATACLASS EXAMPLES ===\n",
      "Person 1: Person(name='Alice', age=30, email='alice@example.com', tags=['developer'])\n",
      "Person 2: Person(name='Bob', age=25, email=None, tags=[])\n",
      "Person 3: Person(name='Charlie', age=17, email=None, tags=['student', 'part-time'])\n",
      "Is Alice an adult? True\n",
      "Is Charlie an adult? False\n"
     ]
    }
   ],
   "source": [
    "\"\"\"\n",
    "01_basic_dataclasses.py - Basic usage of dataclasses\n",
    "\n",
    "This file demonstrates the proper use of dataclasses for simple data structures.\n",
    "\"\"\"\n",
    "\n",
    "\n",
    "from dataclasses import dataclass, field \n",
    "from typing import List, Optional\n",
    "\n",
    "@dataclass\n",
    "class Person:\n",
    "    name: str\n",
    "    age: int\n",
    "    email: str | None = None\n",
    "    # Using field() with default_factory for mutable default values\n",
    "    tags: List[str] = field(default_factory=list)\n",
    "\n",
    "    def is_adult(self) -> bool:\n",
    "        \"\"\"Example method that uses the dataclasses attributes.\"\"\"\n",
    "        return self.age >= 18\n",
    "\n",
    "# Usage example\n",
    "def demo_good_usage():\n",
    "    # Creating instatnces\n",
    "    person1 = Person(name=\"Alice\", age=30, email=\"alice@example.com\")\n",
    "    person2 = Person(name=\"Bob\", age=25)\n",
    "    person3 = Person(name=\"Charlie\", age=17, tags=[\"student\", \"part-time\"])\n",
    "\n",
    "    # Adding to a mutable field\n",
    "    person1.tags.append(\"developer\")\n",
    "\n",
    "    # Using the built-in string representation\n",
    "    print(f\"Person 1: {person1}\")\n",
    "    print(f\"Person 2: {person2}\")\n",
    "    print(f\"Person 3: {person3}\")\n",
    "\n",
    "    # Using the Instance method\n",
    "    print(f\"Is {person1.name} an adult? {person1.is_adult()}\")\n",
    "    print(f\"Is {person3.name} an adult? {person3.is_adult()}\")\n",
    "\n",
    "if __name__ == \"__main__\":\n",
    "    print(\"=== GOOD DATACLASS EXAMPLES ===\")\n",
    "    demo_good_usage()"
   ]
  },
  {
   "cell_type": "code",
   "execution_count": null,
   "id": "b6e0b5ee",
   "metadata": {},
   "outputs": [
    {
     "name": "stdout",
     "output_type": "stream",
     "text": [
      "=== GOOD DATACLASS EXAMPLES ===\n",
      "PersonBad 1: PersonBad(name=Alice, age=30, email=alice@example.com, tags=[])\n",
      "PersonBad 2: PersonBad(name=Bob, age=25, email=None, tags=[])\n"
     ]
    }
   ],
   "source": [
    "\n",
    "# BAD EXAMPLE: Class without dataclass\n",
    "class PersonBad:\n",
    "    def __init__(self, name, age, email=None, tags=None):\n",
    "        self.name = name\n",
    "        self.age = age\n",
    "        self.email = email\n",
    "        # Common mistake: mutable default\n",
    "        self.tags = tags if tags is not None else []\n",
    "\n",
    "    # Have to manually define string represntation\n",
    "    def __repr__(self):\n",
    "        return f\"PersonBad(name={self.name}, age={self.age}, email={self.email}, tags={self.tags})\"\n",
    "\n",
    "    # Have to manually define equatilty\n",
    "    def __eq__(self, other):\n",
    "        if not isinstance(other, PersonBad):\n",
    "            return False\n",
    "        return (self.name == other.name and\n",
    "                self.age == other.age and \n",
    "                self.email == other.email and\n",
    "                self.tags == other.tags)\n",
    "\n",
    "def demo_bad_usage():\n",
    "    # More Verbose and error-prone without dataclasses\n",
    "    person1 = PersonBad(\"Alice\", 30, \"alice@example.com\")\n",
    "    person2 = PersonBad(\"Bob\", 25)\n",
    "\n",
    "    print(f\"PersonBad 1: {person1}\")\n",
    "    print(f\"PersonBad 2: {person2}\")\n",
    "\n",
    "if __name__ == \"__main__\":\n",
    "    print(\"=== GOOD DATACLASS EXAMPLES ===\")\n",
    "    demo_bad_usage()"
   ]
  },
  {
   "cell_type": "code",
   "execution_count": null,
   "id": "6e43f6c5",
   "metadata": {},
   "outputs": [
    {
     "name": "stdout",
     "output_type": "stream",
     "text": [
      "=== GOOD DATACLASS EXAMPLES ===\n",
      "Person 1: Person(name='Alice', age=30, email='alice@example.com', tags=['developer'])\n",
      "Person 2: Person(name='Bob', age=25, email=None, tags=[])\n",
      "Person 3: Person(name='Charlie', age=17, email=None, tags=['student', 'part-time'])\n",
      "Is Alice an adult? True\n",
      "Is Charlie an adult? False\n"
     ]
    }
   ],
   "source": [
    "if __name__ == \"__main__\":\n",
    "    print(\"=== GOOD DATACLASS EXAMPLES ===\")\n",
    "    demo_good_usage()"
   ]
  },
  {
   "cell_type": "code",
   "execution_count": null,
   "id": "fcd6ba41",
   "metadata": {},
   "outputs": [],
   "source": []
  },
  {
   "cell_type": "code",
   "execution_count": null,
   "id": "1898a8c2",
   "metadata": {},
   "outputs": [],
   "source": []
  },
  {
   "cell_type": "code",
   "execution_count": null,
   "id": "176b5d5c",
   "metadata": {},
   "outputs": [],
   "source": []
  }
 ],
 "metadata": {
  "kernelspec": {
   "display_name": "Python 3",
   "language": "python",
   "name": "python3"
  },
  "language_info": {
   "codemirror_mode": {
    "name": "ipython",
    "version": 3
   },
   "file_extension": ".py",
   "mimetype": "text/x-python",
   "name": "python",
   "nbconvert_exporter": "python",
   "pygments_lexer": "ipython3",
   "version": "3.12.6"
  }
 },
 "nbformat": 4,
 "nbformat_minor": 5
}
