{
 "cells": [
  {
   "cell_type": "code",
   "execution_count": null,
   "id": "8fed21b1",
   "metadata": {},
   "outputs": [],
   "source": [
    "\"\"\"\n",
    "01_basic_dataclasses.py - Basic usage of dataclasses\n",
    "\n",
    "This file demonstrates the proper use of dataclasses for simple data structures.\n",
    "\"\"\"\n",
    "\n",
    "from dataclasses import dataclass, field \n",
    "from typing import List, Optional\n",
    "\n",
    "@dataclass\n",
    "class Person:\n",
    "    name: str\n",
    "    age: int\n",
    "    email: str | None = None\n",
    "    # Using field() with default_factory for mutable default values\n",
    "    tags: List[str] = field(default_factory=list)\n",
    "\n",
    "    def is_adult(self) -> bool:\n",
    "        \"\"\"Example method that uses the dataclasses attributes.\"\"\"\n",
    "        return self.age >= 18\n",
    "\n",
    "# Usage example\n",
    "def demo_good_usage():\n",
    "    # Creating instatnces\n",
    "    person1 = Person(name=\"Alice\", age=30, email=\"alice@example.com\")\n",
    "    person2 = Person(name=\"Bob\", age=25)\n",
    "    person1 = Person(name=\"Charlie\", age=17, tags=[\"student\", \"part-time\"])\n",
    "\n",
    "    # Adding "
   ]
  },
  {
   "cell_type": "code",
   "execution_count": null,
   "id": "6e43f6c5",
   "metadata": {},
   "outputs": [],
   "source": []
  }
 ],
 "metadata": {
  "kernelspec": {
   "display_name": "my-app",
   "language": "python",
   "name": "python3"
  },
  "language_info": {
   "codemirror_mode": {
    "name": "ipython",
    "version": 3
   },
   "file_extension": ".py",
   "mimetype": "text/x-python",
   "name": "python",
   "nbconvert_exporter": "python",
   "pygments_lexer": "ipython3",
   "version": "3.12.0"
  }
 },
 "nbformat": 4,
 "nbformat_minor": 5
}
